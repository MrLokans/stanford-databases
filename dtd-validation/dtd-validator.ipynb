{
 "cells": [
  {
   "cell_type": "code",
   "execution_count": 11,
   "metadata": {
    "collapsed": false
   },
   "outputs": [],
   "source": [
    "from lxml import etree\n",
    "\n",
    "\n",
    "VALID_FILE = 'valid-sample.xml'\n",
    "INVALID_FILE = 'invalid-sample.xml'\n",
    "\n",
    "\n",
    "parser = etree.XMLParser(dtd_validation=True)\n",
    "\n",
    "# Everything is fine. exception is not raised\n",
    "tree = etree.parse(VALID_FILE, parser)"
   ]
  }
 ],
 "metadata": {
  "kernelspec": {
   "display_name": "Python 3",
   "language": "python",
   "name": "python3"
  },
  "language_info": {
   "codemirror_mode": {
    "name": "ipython",
    "version": 3
   },
   "file_extension": ".py",
   "mimetype": "text/x-python",
   "name": "python",
   "nbconvert_exporter": "python",
   "pygments_lexer": "ipython3",
   "version": "3.5.2"
  }
 },
 "nbformat": 4,
 "nbformat_minor": 2
}
